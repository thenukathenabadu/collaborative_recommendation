{
 "cells": [
  {
   "cell_type": "code",
   "execution_count": 89,
   "id": "4808d121",
   "metadata": {},
   "outputs": [],
   "source": [
    "import pandas as pd\n",
    "# import numpy as np\n",
    "# import matplotlib.pyplot as plt\n",
    "\n",
    "class Load_data:\n",
    "    def __init__(self,url=None):\n",
    "        self.__url = url\n",
    "        self.__book_df = None\n",
    "        self.__users_df = None\n",
    "        self.__rating_df = None\n",
    "        self.__merged_df = None\n",
    "    def set_urls(self,url):\n",
    "        self.__url = url\n",
    "    def books_data(self):\n",
    "#         books = pd.read_csv(self.__url[0], sep=';',error_bad_lines=False, warn_bad_lines=False,converters={'yearOfPublication': self.convert_dtype})\n",
    "        books = pd.read_csv(self.__url[0], sep=';',usecols=[0,1,2])\n",
    "#         books.columns = ['ISBN', 'bookTitle', 'bookAuthor', 'yearOfPublication', 'publisher', 'imageUrlS', 'imageUrlM', 'imageUrlL']\n",
    "        books.columns = ['ISBN', 'bookTitle', 'bookAuthor']\n",
    "        self.__book_df = books\n",
    "    def user_data(self):\n",
    "        users = pd.read_csv(self.__url[1], sep=';', error_bad_lines=False)\n",
    "        users.columns = ['userID', 'Location', 'Age']\n",
    "        self.__users_df =  users\n",
    "    def rating_data(self):\n",
    "        ratings = pd.read_csv(self.__url[2], sep=';', error_bad_lines=False)\n",
    "        ratings.columns = ['userID', 'ISBN', 'bookRating']\n",
    "        self.__rating_df = ratings\n",
    "    def merge_dataset(self):\n",
    "        self.get_books_data()\n",
    "        self.get_rating_data()\n",
    "        combined_df = pd.merge(self.__rating_df,self.__book_df[['ISBN','bookTitle', 'bookAuthor']],on='ISBN')\n",
    "        # merged_inner = pd.merge(left=ratings, right=books, left_on='ISBN', right_on='ISBN')\n",
    "        self.__merged_df = combined_df\n",
    "    def get_books_data(self):\n",
    "        return self.books_data()\n",
    "    def get_user_data(self):\n",
    "        return self.user_data()\n",
    "    def get_rating_data(self):\n",
    "        return self.rating_data()\n",
    "    def get_user_preferences_df(self):\n",
    "        self.merge_dataset()\n",
    "        return self.__merged_df\n",
    "    def convert_dtype(self,x):\n",
    "        if not x:\n",
    "            return ''\n",
    "        try:\n",
    "            return str(x)   \n",
    "        except:        \n",
    "            return ''"
   ]
  },
  {
   "cell_type": "code",
   "execution_count": 90,
   "id": "eeb263b0",
   "metadata": {},
   "outputs": [],
   "source": [
    "# load_data_books = Load_data('Books.csv')\n",
    "# load_data_users = Load_data('Users.csv')\n",
    "# load_data_books = Load_data('Book-Ratings.csv')"
   ]
  },
  {
   "cell_type": "code",
   "execution_count": 91,
   "id": "7b97ade0",
   "metadata": {},
   "outputs": [],
   "source": [
    "# urls = ['Books.csv','Users.csv','Book-Ratings.csv']\n",
    "# load_data_books = Load_data(urls)\n"
   ]
  },
  {
   "cell_type": "code",
   "execution_count": 92,
   "id": "900bae0f",
   "metadata": {},
   "outputs": [],
   "source": [
    "# merged_dataset = load_data_books.merge_dataset()"
   ]
  },
  {
   "cell_type": "code",
   "execution_count": 85,
   "id": "563bb7ec",
   "metadata": {},
   "outputs": [],
   "source": [
    "# urls = ['Books.csv','Users.csv','Book-Ratings.csv']\n",
    "# dataset = Load_data(urls)\n",
    "# dataset.merge_dataset()"
   ]
  },
  {
   "cell_type": "code",
   "execution_count": 83,
   "id": "007f3a0b",
   "metadata": {},
   "outputs": [],
   "source": [
    "# import pandas as pd\n",
    "# books = pd.read_csv('Books.csv', sep=';',usecols=[0,1,2])"
   ]
  },
  {
   "cell_type": "code",
   "execution_count": null,
   "id": "c84e86fd",
   "metadata": {},
   "outputs": [],
   "source": []
  },
  {
   "cell_type": "code",
   "execution_count": null,
   "id": "ba1cfc30",
   "metadata": {},
   "outputs": [],
   "source": []
  }
 ],
 "metadata": {
  "kernelspec": {
   "display_name": "Python 3",
   "language": "python",
   "name": "python3"
  },
  "language_info": {
   "codemirror_mode": {
    "name": "ipython",
    "version": 3
   },
   "file_extension": ".py",
   "mimetype": "text/x-python",
   "name": "python",
   "nbconvert_exporter": "python",
   "pygments_lexer": "ipython3",
   "version": "3.8.8"
  }
 },
 "nbformat": 4,
 "nbformat_minor": 5
}
