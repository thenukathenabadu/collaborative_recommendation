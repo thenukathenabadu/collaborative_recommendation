{
 "cells": [
  {
   "cell_type": "code",
   "execution_count": 49,
   "id": "7b4ede74",
   "metadata": {},
   "outputs": [],
   "source": [
    "from load_data_set import Load_data\n",
    "# from scipy.sparse import csr_matrix\n",
    "# import numpy as np\n",
    "# from sklearn.neighbors import NearestNeighbors\n",
    "from  sklearn.neighbors import KNeighborsClassifier \n",
    "import pandas as pd\n",
    "from sklearn.preprocessing import StandardScaler, LabelEncoder\n",
    "from sklearn.model_selection import train_test_split\n",
    "pd.options.mode.chained_assignment = None\n",
    "class Knn_m2(Load_data):\n",
    "    def __init__(self,n_neighbors=3,threshold=10,test_size=0.33):\n",
    "#         self.urls = None\n",
    "#         self.metric = metric\n",
    "        self.recomendations = {}\n",
    "        self.lb_en = LabelEncoder()\n",
    "        self.n_neighbors = n_neighbors\n",
    "        self.test_size = test_size\n",
    "        self.threshold = threshold\n",
    "    def set_values(self,urls,dataset,threshold=10):\n",
    "        self.set_urls(urls)\n",
    "        self.main_df = self.get_user_preferences_df()\n",
    "        self.target_df = dataset\n",
    "        self.threshold = threshold\n",
    "    def preprocess(self):\n",
    "        self.filterd_main = self.main_df[self.main_df['userID'].isin(self.target_df['userID'].to_list())]\n",
    "        self.filterd_main['enc_title'] = self.lb_en.fit_transform(self.filterd_main['bookTitle'])\n",
    "        self.filterd_main['enc_isbn'] = self.lb_en.fit_transform(self.filterd_main['ISBN'])\n",
    "        X = self.filterd_main.drop(['bookTitle','enc_title','ISBN','bookAuthor'],axis=1)\n",
    "        Y = self.filterd_main['enc_title']\n",
    "        self.train_x,self.test_x,self.train_y,self.test_y = train_test_split(X,Y,test_size=self.test_size)\n",
    "        scaler = StandardScaler()\n",
    "        self.X_train = scaler.fit_transform(self.train_x)\n",
    "        self.X_test = scaler.fit_transform(self.test_x)\n",
    "    def knn_algo(self):\n",
    "        knn = KNeighborsClassifier(n_neighbors=self.n_neighbors)\n",
    "        knn_model = knn.fit(self.X_train, self.train_y)#trains the classification model\n",
    "        predict_knn = knn_model.predict(self.X_test)#predicts the quality of wine using  classification model\n",
    "#         print(self.threshold)\n",
    "        self.pred_list = predict_knn[:self.threshold]\n",
    "#         print(self.pred_list)\n",
    "    def print_(self):\n",
    "        for i in self.filterd_main.index:\n",
    "            title_en = self.filterd_main.loc[i]['enc_title']\n",
    "            if title_en in self.pred_list:\n",
    "                title = self.filterd_main.loc[i]['bookTitle']\n",
    "                isbn = self.filterd_main.loc[i]['ISBN']\n",
    "#                 print(isbn)\n",
    "                self.recomendations[isbn] = title\n",
    "        temp_sim_df = pd.DataFrame.from_dict(self.recomendations, orient='index')\n",
    "        temp_sim_df.columns = ['Book-Title']\n",
    "#         temp_sim_df['userID'] = temp_sim_df.index\n",
    "        return temp_sim_df"
   ]
  },
  {
   "cell_type": "code",
   "execution_count": null,
   "id": "5a3a7b43",
   "metadata": {},
   "outputs": [],
   "source": []
  },
  {
   "cell_type": "code",
   "execution_count": 50,
   "id": "c3cf1dc9",
   "metadata": {},
   "outputs": [],
   "source": [
    "# urls = ['Books.csv','Users.csv','Book-Ratings.csv']\n",
    "\n",
    "# import test as t\n",
    "# new_t = t.Test()\n",
    "# df = new_t.test_case()\n"
   ]
  },
  {
   "cell_type": "code",
   "execution_count": 51,
   "id": "c638d104",
   "metadata": {},
   "outputs": [],
   "source": [
    "# urls = ['Books.csv','Users.csv','Book-Ratings.csv']\n",
    "# import test as t\n",
    "# new_t = t.Test()\n",
    "# df = new_t.test_case()\n",
    "# k = Knn_m2()\n",
    "# k.set_values(urls,df)\n",
    "# k.preprocess()\n",
    "# k.knn_algo()\n",
    "# k.print_()"
   ]
  },
  {
   "cell_type": "code",
   "execution_count": 48,
   "id": "c0eeb69a",
   "metadata": {},
   "outputs": [],
   "source": [
    "# k.print_()"
   ]
  },
  {
   "cell_type": "code",
   "execution_count": null,
   "id": "8508eff8",
   "metadata": {},
   "outputs": [],
   "source": []
  },
  {
   "cell_type": "code",
   "execution_count": null,
   "id": "bb984b16",
   "metadata": {},
   "outputs": [],
   "source": []
  }
 ],
 "metadata": {
  "kernelspec": {
   "display_name": "Python 3",
   "language": "python",
   "name": "python3"
  },
  "language_info": {
   "codemirror_mode": {
    "name": "ipython",
    "version": 3
   },
   "file_extension": ".py",
   "mimetype": "text/x-python",
   "name": "python",
   "nbconvert_exporter": "python",
   "pygments_lexer": "ipython3",
   "version": "3.8.8"
  }
 },
 "nbformat": 4,
 "nbformat_minor": 5
}
