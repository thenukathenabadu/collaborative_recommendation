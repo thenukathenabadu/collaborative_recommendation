{
 "cells": [
  {
   "cell_type": "code",
   "execution_count": null,
   "id": "d3396e86",
   "metadata": {},
   "outputs": [],
   "source": [
    "import loading as ld\n",
    "from load_data_set import Load_data\n",
    "from recomend_on_users import RecomenderWithUsers\n",
    "from recomend_on_books import RecomenderWithBooks\n",
    "import similarities as sm\n",
    "# import similarities as sm\n",
    "import pandas as pd\n",
    "class MainProgram(RecomenderWithBooks,RecomenderWithUsers,Load_data):\n",
    "    def __init__(self):\n",
    "        self.urls = ['Books.csv','Users.csv','Book-Ratings.csv']\n",
    "        self.loading = ld.Loading()\n",
    "#         self.load_dataset = lo.Load_data()\n",
    "        self.set_urls(self.urls)\n",
    "        self.user_base = RecomenderWithUsers()\n",
    "        self.book_base = RecomenderWithBooks()\n",
    "    def set_user_data(self,user_id,isbn,threshhold,algo):\n",
    "        self.user_id = user_id\n",
    "        self.threshhold = threshhold\n",
    "        self.algo = algo\n",
    "        self.isbn = isbn\n",
    "    def set_merged_dataset_df(self):\n",
    "        self.data_frame = self.get_user_preferences_df()\n",
    "    def user_based_closest_n(self):\n",
    "        print(\"User Base Closest Users\")\n",
    "        return self.user_base.initialize(self.data_frame,self.user_id,self.threshhold,self.algo)\n",
    "    def book_based_closest_n(self):\n",
    "        print(\"Book Base Closest Books\")\n",
    "        return self.book_base.initialize(self.data_frame,self.isbn,self.threshhold,self.algo)"
   ]
  }
 ],
 "metadata": {
  "kernelspec": {
   "display_name": "Python 3",
   "language": "python",
   "name": "python3"
  },
  "language_info": {
   "codemirror_mode": {
    "name": "ipython",
    "version": 3
   },
   "file_extension": ".py",
   "mimetype": "text/x-python",
   "name": "python",
   "nbconvert_exporter": "python",
   "pygments_lexer": "ipython3",
   "version": "3.8.8"
  }
 },
 "nbformat": 4,
 "nbformat_minor": 5
}
