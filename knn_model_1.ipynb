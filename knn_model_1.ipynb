{
 "cells": [
  {
   "cell_type": "code",
   "execution_count": 3,
   "id": "1aacb984",
   "metadata": {},
   "outputs": [],
   "source": [
    "from load_data_set import Load_data\n",
    "from scipy.sparse import csr_matrix\n",
    "import numpy as np\n",
    "from sklearn.neighbors import NearestNeighbors\n",
    "class Knn(Load_data):\n",
    "    def __init__(self,metric,n_neighbors):\n",
    "        self.urls = None\n",
    "        self.metric = metric\n",
    "        self.n_neighbors = n_neighbors\n",
    "    def set_values(self,urls,dataset):\n",
    "        self.set_urls(urls)\n",
    "        self.main_df = self.get_user_preferences_df()\n",
    "        self.target_df = dataset\n",
    "    def preprocess(self):\n",
    "        filterd_main = self.main_df[self.main_df['userID'].isin(self.target_df['userID'].to_list())]\n",
    "        reco_sample_u = filterd_main.drop_duplicates(['userID', 'bookTitle'])\n",
    "        self.user_rating_pivot = reco_sample_u.pivot(index = 'bookTitle', columns = 'userID', values = 'bookRating').fillna(0)\n",
    "        self.user_rating_matrix = csr_matrix(self.user_rating_pivot.values)\n",
    "    def knn_algo(self):\n",
    "        model_knn = NearestNeighbors(metric = self.metric, algorithm = 'brute',leaf_size=30,metric_params=None, n_jobs=1, n_neighbors=self.n_neighbors, p=2, radius=1.0)\n",
    "        model_knn.fit(self.user_rating_matrix)\n",
    "        self.query_index = np.random.choice(self.user_rating_pivot.shape[0])\n",
    "        self.distances, self.indices = model_knn.kneighbors(self.user_rating_pivot.iloc[self.query_index, :].values.reshape(1, -1), n_neighbors = self.n_neighbors)\n",
    "    def print_(self):\n",
    "        for i in range(0, len(self.distances.flatten())):\n",
    "            print('{0}: {1}, with distance of {2}:'.format(i+1, self.user_rating_pivot.index[self.indices.flatten()[i]], self.distances.flatten()[i]))\n",
    "#             if i == 0:\n",
    "#                 print('Recommendations for {0}:\\n'.format(self.user_rating_pivot.index[self.query_index]))\n",
    "#             else:\n",
    "#                 print('{0}: {1}, with distance of {2}:'.format(i, self.user_rating_pivot.index[self.indices.flatten()[i]], self.distances.flatten()[i]))\n",
    "        "
   ]
  },
  {
   "cell_type": "code",
   "execution_count": null,
   "id": "eb8c167e",
   "metadata": {},
   "outputs": [],
   "source": [
    "# arr = ['Books.csv','Users.csv','Book-Ratings.csv']"
   ]
  }
 ],
 "metadata": {
  "kernelspec": {
   "display_name": "Python 3",
   "language": "python",
   "name": "python3"
  },
  "language_info": {
   "codemirror_mode": {
    "name": "ipython",
    "version": 3
   },
   "file_extension": ".py",
   "mimetype": "text/x-python",
   "name": "python",
   "nbconvert_exporter": "python",
   "pygments_lexer": "ipython3",
   "version": "3.8.8"
  }
 },
 "nbformat": 4,
 "nbformat_minor": 5
}
