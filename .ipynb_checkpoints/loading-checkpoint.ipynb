{
 "cells": [
  {
   "cell_type": "code",
   "execution_count": 26,
   "id": "1158a09c",
   "metadata": {},
   "outputs": [],
   "source": [
    "import itertools\n",
    "import threading\n",
    "import time\n",
    "import sys\n",
    "CURSOR_UP_ONE = '\\x1b[1A' \n",
    "ERASE_LINE = '\\x1b[2K' \n",
    "class Loading:\n",
    "    def __init__(self,status = True,text_start = 'loading',text_end = 'Done!'):\n",
    "        self.status = status\n",
    "        self.text_start = text_start\n",
    "        self.text_end = text_end\n",
    "        self.start_line_len = len(self.text_start)\n",
    "    def start(self,text_start = 'loading',text_end = 'Done!'):\n",
    "        self.status = False\n",
    "        self.text_start = text_start\n",
    "        self.text_end = text_end\n",
    "        t = threading.Thread(target=self.animate)\n",
    "        t.start()\n",
    "    def stop(self,text_start = 'loading',text_end = 'Done!'):\n",
    "        self.text_start = text_start\n",
    "        self.text_end = text_end\n",
    "        self.status = True\n",
    "#         self.animate()\n",
    "    def animate(self):\n",
    "        for c in itertools.cycle(['.', ' .', '  .', '    ']):\n",
    "            if self.status:\n",
    "                break\n",
    "            sys.stdout.write('\\r'+self.text_start+ c)\n",
    "            sys.stdout.flush()\n",
    "            time.sleep(0.3)\n",
    "        sys.stdout.write('\\r'+self.text_end)\n",
    "        for x in range(self.start_line_len):\n",
    "            sys.stdout.write(CURSOR_UP_ONE) \n",
    "            sys.stdout.write(ERASE_LINE)"
   ]
  },
  {
   "cell_type": "code",
   "execution_count": 27,
   "id": "8d4ad5b6",
   "metadata": {},
   "outputs": [],
   "source": [
    "# import sys\n",
    "# CURSOR_UP_ONE = '\\x1b[1A' \n",
    "# ERASE_LINE = '\\x1b[2K' \n",
    "# sys.stdout.write('test .')\n",
    "# sys.stdout.write('new') "
   ]
  },
  {
   "cell_type": "code",
   "execution_count": 28,
   "id": "aaf00902",
   "metadata": {},
   "outputs": [],
   "source": [
    "# import itertools\n",
    "# import threading\n",
    "# import time\n",
    "# import sys\n",
    "# status = False\n",
    "# CURSOR_UP_ONE = '\\x1b[1A' \n",
    "# ERASE_LINE = '\\x1b[2K' \n",
    "# def animate():\n",
    "#     for c in itertools.cycle(['.', ' .', '  .', '    ']):\n",
    "#         if status:\n",
    "#             break\n",
    "#         sys.stdout.write('\\rloading ' + c)\n",
    "#         sys.stdout.flush()\n",
    "#         time.sleep(0.3) \n",
    "#     sys.stdout.write('\\rDone!')\n",
    "#     sys.stdout.write(ERASE_LINE)\n",
    "\n",
    "# t = threading.Thread(target=animate)\n",
    "# t.start()\n",
    "\n",
    "# time.sleep(1)\n",
    "# status = True"
   ]
  },
  {
   "cell_type": "code",
   "execution_count": 30,
   "id": "6d5e06f7",
   "metadata": {},
   "outputs": [
    {
     "name": "stdout",
     "output_type": "stream",
     "text": [
      "\u001b[1A\u001b[2K\u001b[1A\u001b[2K\u001b[1A\u001b[2K\u001b[1A\u001b[2K\u001b[1A\u001b[2K\u001b[1A\u001b[2K\u001b[1A\u001b[2K"
     ]
    }
   ],
   "source": []
  },
  {
   "cell_type": "code",
   "execution_count": null,
   "id": "18577121",
   "metadata": {},
   "outputs": [],
   "source": []
  }
 ],
 "metadata": {
  "kernelspec": {
   "display_name": "Python 3",
   "language": "python",
   "name": "python3"
  },
  "language_info": {
   "codemirror_mode": {
    "name": "ipython",
    "version": 3
   },
   "file_extension": ".py",
   "mimetype": "text/x-python",
   "name": "python",
   "nbconvert_exporter": "python",
   "pygments_lexer": "ipython3",
   "version": "3.8.8"
  }
 },
 "nbformat": 4,
 "nbformat_minor": 5
}
