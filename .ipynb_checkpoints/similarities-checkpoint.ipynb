{
 "cells": [
  {
   "cell_type": "code",
   "execution_count": 3,
   "id": "170aed2e",
   "metadata": {},
   "outputs": [],
   "source": [
    "# import math\n",
    "# from decimal import Decimal\n",
    "# def p_root(value, root):\n",
    "#     root_value = 1 / float(root)\n",
    "#     return round (Decimal(value) **\n",
    "#              Decimal(root_value), 3)\n",
    "# class Similarity:\n",
    "#     def __init__(self,x=None,y=None,similarity = None,formula = None):\n",
    "#         self.__x = x\n",
    "#         self.__y = y\n",
    "#         self.similarity = similarity\n",
    "#         self.formula = formula\n",
    "#     def getx(self):\n",
    "#         return self.__x\n",
    "#     def gety(self):\n",
    "#         return self.__y\n",
    "#     def get_similarity(self,x,y,formula):\n",
    "#         if(formula == 'squared_euclidean_similarity'):\n",
    "#             self.squared_euclidean_similarity(x,y)\n",
    "#         elif(formula == 'euclidean_similarity'):\n",
    "#             self.euclidean_similarity(x,y)\n",
    "#         elif(formula == 'pearson_correlation'):\n",
    "#             self.pearson_correlation(x,y)\n",
    "#         elif(formula == 'pearson_correlation'):\n",
    "#             self.pearson_correlation(x,y)\n",
    "#         elif(formula == 'minkowski_distance'):\n",
    "#             self.minkowski_distance(x,y)\n",
    "#         elif(formula == 'spearman_correlation_similarity'):\n",
    "#             self.spearman_correlation_similarity(x,y)\n",
    "#         elif(formula == 'chebyshev_similarity'):\n",
    "#             self.chebyshev_similarity(x,y)\n",
    "#         elif(formula == 'hamming_distance_similarity'):\n",
    "#             self.hamming_distance_similarity(x,y)\n",
    "#         elif(formula == 'cosine_similarity'):\n",
    "#             self.cosine_similarity(x,y)\n",
    "#         else:\n",
    "#             self.invalid_similarity(x,y)\n",
    "#         return {'input01':self.getx(), 'input02':self.gety(), 'formula':self.formula, 'similarity':self.similarity}\n",
    "#     def set_similarity(self,x,y,similarity,formular):\n",
    "#         self.__x = x\n",
    "#         self.__y = y\n",
    "#         self.similarity = similarity\n",
    "#         self.formula = formular\n",
    "#     def invalid_similarity(self,x,y):\n",
    "#         self.set_similarity(x,y,\"Undefined\",'Error : Invalid Similarity')\n",
    "#         return Similarity(self,x,y,\"Undefined\",'Error : Invalid Similarity')\n",
    "#     def squared_euclidean_similarity(self,x,y):\n",
    "#         similarity = sum(pow(int(a)-int(b),2) for a, b in zip(x, y))\n",
    "#         return 1 / (1 + similarity)\n",
    "#     def euclidean_similarity(self,x,y):\n",
    "#         similarity = math.sqrt(sum(pow(int(a)-int(b),2) for a, b in zip(x, y)))\n",
    "#         return 1 / (1 + similarity)\n",
    "#     def pearson_correlation(self,target_user_rating,closest_group_user_rating):\n",
    "#         Sxx = sum([i**2 for i in target_user_rating]) - pow(sum(target_user_rating),2)/float(target_user_rating)\n",
    "#         Syy = sum([i**2 for i in closest_group_user_rating]) - pow(sum(closest_group_user_rating),2)/float(target_user_rating)\n",
    "#         Sxy = sum( i*j for i, j in zip(target_user_rating, closest_group_user_rating)) - sum(target_user_rating)*sum(closest_group_user_rating)/float(target_user_rating)\n",
    "#         #If the denominator is different than zero, then divide, else, 0 correlation.\n",
    "#         if Sxx != 0 and Syy != 0:\n",
    "#             similarity = Sxy/np.sqrt(Sxx*Syy)\n",
    "#         else:\n",
    "#             similarity = 0\n",
    "#         return similarity\n",
    "#     def minkowski_distance(self,x, y, p_value = 3):\n",
    "#         #https://www.youtube.com/watch?v=0j8uMexxzDo\n",
    "#         #https://medium.com/@kunal_gohrani/different-types-of-distance-metrics-used-in-machine-learning-e9928c5e26c7\n",
    "#         # pass the p_root function to calculate\n",
    "#         # all the value of vector parallelly\n",
    "#         # p = 1, Manhattan Distance\n",
    "#         # p = 2, Euclidean Distance\n",
    "#         # p = 3, minkowski_distance\n",
    "#         # p = infinity, Chebychev Distance\n",
    "#         similarity = float(p_root((sum(pow(abs(int(a)-int(b)), p_value) for a, b in zip(x, y))), p_value))\n",
    "#         self.set_similarity(x,y,similarity,'minkowski_distance')\n",
    "#         return Similarity(x,y,similarity,'minkowski_distance')\n",
    "#     def spearman_correlation_similarity(self,x,y):\n",
    "#         #https://www.geeksforgeeks.org/program-spearmans-rank-correlation/\n",
    "#         #https://en.wikipedia.org/wiki/Spearman's_rank_correlation_coefficient\n",
    "#         # not used : https://towardsdatascience.com/calculate-similarity-the-most-relevant-metrics-in-a-nutshell-9a43564f533e\n",
    "#         similarity =  1 -(6*sum(pow((int(a)-int(b)),2) for a,b in zip(x,y)))/(len(x)*(pow(len(x),2)-1))\n",
    "#         self.set_similarity(x,y,similarity,'spearman_correlation_similarity')\n",
    "#         return Similarity(x,y,similarity,'spearman_correlation_similarity')\n",
    "#     def chebyshev_similarity(self,x,y):\n",
    "#         #https://bigdata-madesimple.com/implementing-the-five-most-popular-similarity-measures-in-python/\n",
    "#         v = 0\n",
    "#         for a,b in zip(x,y):\n",
    "#             if v < abs(int(a) - int(b)):\n",
    "#                 v = abs(int(a) - int(b))\n",
    "#         self.set_similarity(x,y,v,'chebyshev_similarity')\n",
    "#         return Similarity(x,y,v,'chebyshev_similarity')\n",
    "#     def hamming_distance_similarity(self,x, y):\n",
    "#         # From Wikipedia : https://en.wikipedia.org/wiki/Hamming_distance\n",
    "#         dist_counter = 0\n",
    "#         for n in range(len(x)):\n",
    "#             if x[n] != y[n]:\n",
    "#                 dist_counter += 1\n",
    "#         self.set_similarity(x,y,dist_counter,'hamming_distance_similarity')\n",
    "#         return Similarity(x,y,dist_counter,'hamming_distance_similarity')\n",
    "#     def cosine_similarity(self,x,y):\n",
    "#         numerator = sum(int(a)*int(b) for a,b in zip(x,y))\n",
    "#         dinominator = Similarity.square_rooted(x)*Similarity.square_rooted(y)\n",
    "#         try:\n",
    "#             similarity = numerator/float(dinominator)\n",
    "#         except:\n",
    "#             similarity = \"Undifined\"\n",
    "#         self.set_similarity(x,y,similarity,'cosine_similarity')\n",
    "#         return Similarity(x,y,similarity,'cosine_similarity')\n",
    "#     def square_rooted(k):\n",
    "#         return round(math.sqrt(sum([int(a)*int(a) for a in k])),3)\n",
    "#     def __repr__(self):\n",
    "# #         return \" input 01:\"+str(self.getx())+\"\\n input 02:\"+str(self.gety())+\"\\n The \"+self.formula+\" is \"+str(self.similarity)\n",
    "#         return \"\\n The \"+self.formula+\" is \"+str(self.similarity)\n",
    "#     def __str__(self):\n",
    "# #         return \" input 01:\"+str(self.getx())+\"\\n input 02:\"+str(self.gety())+\"\\n The \"+self.formula+\" is \"+str(self.similarity)\n",
    "#         return \"\\n The \"+self.formula+\" is \"+str(self.similarity)\n",
    "    "
   ]
  },
  {
   "cell_type": "code",
   "execution_count": 40,
   "id": "1f00b11d",
   "metadata": {},
   "outputs": [],
   "source": [
    "import numpy as np\n",
    "import scipy.stats.stats as sc\n",
    "import scipy.spatial.distance as scd\n",
    "from decimal import Decimal\n",
    "class Similarity:\n",
    "    def __init__(self, sim = None, target_r =None , closest_r = None):\n",
    "        self.__sim = sim\n",
    "        self.__target_r = target_r\n",
    "        self.__closest_r = closest_r\n",
    "    def pearson_correlation(self):\n",
    "        Sxx = sum([i**2 for i in self.__target_r]) - pow(sum(self.__target_r),2)/float(len(self.__target_r))\n",
    "        Syy = sum([i**2 for i in self.__closest_r]) - pow(sum(self.__closest_r),2)/float(len(self.__closest_r))\n",
    "        Sxy = sum( i*j for i, j in zip(self.__target_r, self.__closest_r)) - sum(self.__target_r)*sum(self.__closest_r)/float(len(self.__target_r))\n",
    "        #If the denominator is different than zero, then divide, else, 0 correlation.\n",
    "        if Sxx != 0 and Syy != 0:\n",
    "            similarity = Sxy/np.sqrt(Sxx*Syy)\n",
    "        else:\n",
    "            similarity = 0\n",
    "        return similarity\n",
    "    def pearson_correlation_scipy(self):\n",
    "        return sc.pearsonr(self.__target_r,self.__closest_r)[0]\n",
    "    def squared_euclidean_similarity(self):\n",
    "        similarity = sum(pow(int(a)-int(b),2) for a, b in zip(self.__target_r, self.__closest_r))\n",
    "        return self.__distance_to_similarity(similarity)\n",
    "    def euclidean_similarity(self):\n",
    "        similarity = math.sqrt(sum(pow(int(a)-int(b),2) for a, b in zip(self.__target_r, self.__closest_r)))\n",
    "        return self.__distance_to_similarity(similarity)\n",
    "    def minkowski_distance(self, p_value = 3):\n",
    "        #https://www.youtube.com/watch?v=0j8uMexxzDo\n",
    "        #https://medium.com/@kunal_gohrani/different-types-of-distance-metrics-used-in-machine-learning-e9928c5e26c7\n",
    "        # pass the p_root function to calculate\n",
    "        # all the value of vector parallelly\n",
    "        # p = 1, Manhattan Distance\n",
    "        # p = 2, Euclidean Distance\n",
    "        # p = 3, minkowski_distance\n",
    "        # p = infinity, Chebychev Distance\n",
    "        similarity = self.__p_root((sum(pow(abs(int(a)-int(b)), p_value) for a, b in zip(self.__target_r, self.__closest_r))), p_value)\n",
    "        return self.__distance_to_similarity(float(similarity))\n",
    "    def cosine_similarity(self):\n",
    "        numerator = sum(int(a)*int(b) for a,b in zip(self.__target_r, self.__closest_r))\n",
    "        dinominator = self.__square_rooted(self.__target_r)*self.__square_rooted(self.__closest_r)\n",
    "        try:\n",
    "            similarity = numerator/float(dinominator)\n",
    "        except:\n",
    "            similarity = \"Undifined\"\n",
    "        return round(similarity,3)\n",
    "    def spearman_correlation_similarity(self):\n",
    "        return sc.spearmanr(self.__target_r, self.__closest_r)\n",
    "    def hamming_distance_similarity(self):\n",
    "        return scd.hamming(self.__target_r, self.__closest_r)\n",
    "    def __square_rooted(self,k):\n",
    "        return round(np.sqrt(sum([int(a)*int(a) for a in k])),3)\n",
    "    def __distance_to_similarity(self,sim_val):\n",
    "        #The similarity is indirectly proportional to distance. \n",
    "        #As the distance increases, similarity decreases and vice vera\n",
    "        print(\"sim Value\",sim_val)\n",
    "        return (1/1+sim_val)\n",
    "    def __p_root(self, value, root):\n",
    "        root_value = 1 / float(root)\n",
    "        return round (Decimal(value) ** Decimal(root_value), 3)\n",
    "    def __invalid_similarity(self):\n",
    "        raise Exception(\"Error : Invalid Similarity or value error\")\n",
    "    def get_similarity(self):\n",
    "        if(self.__sim == 'squared_euclidean_similarity'):\n",
    "            return self.squared_euclidean_similarity()\n",
    "        elif(self.__sim == 'euclidean_similarity'):\n",
    "            return self.euclidean_similarity()\n",
    "        elif(self.__sim == 'pearson_correlation'):\n",
    "            return self.pearson_correlation()\n",
    "        elif(self.__sim == 'pearson_correlation_scipy'):\n",
    "            return self.pearson_correlation_scipy()\n",
    "        elif(self.__sim == 'minkowski_distance'):\n",
    "            return self.minkowski_distance()\n",
    "        elif(self.__sim == 'cosine_similarity'):\n",
    "            return self.cosine_similarity()\n",
    "        elif(self.__sim == 'spearman_correlation_similarity'):\n",
    "            return self.cosine_similarity()\n",
    "        elif(self.__sim == 'hamming_distance_similarity'):\n",
    "            return self.hamming_distance_similarity()\n",
    "        else:\n",
    "            return self.__invalid_similarity()\n",
    "    def __repr__(self):\n",
    "        return \"\\n The \"+self.__sim+\" is \"+str(self.get_similarity())\n",
    "    def __str__(self):\n",
    "        return \"\\n The \"+self.__sim+\" is \"+str(self.get_similarity())\n",
    "\n",
    "def getSimilarity(sim = None, target_r =None , closest_r = None):\n",
    "    obj_sim = Similarity(sim = sim,target_r = target_r,closest_r = closest_r)\n",
    "    return obj_sim.get_similarity()\n",
    "\n",
    "def awailable_modules():\n",
    "    method_list = [method for method in dir(Similarity) if method.startswith('__') is False and method != 'get_similarity' and method.startswith('_') is False]\n",
    "    return method_list"
   ]
  },
  {
   "cell_type": "code",
   "execution_count": 8,
   "id": "1252ae39",
   "metadata": {},
   "outputs": [
    {
     "data": {
      "text/plain": [
       "1.0"
      ]
     },
     "execution_count": 8,
     "metadata": {},
     "output_type": "execute_result"
    }
   ],
   "source": [
    "getSimilarity(sim = 'pearson_correlation', target_r =[1,2,3,6,7,8] , closest_r = [1,2,3,6,7,8])"
   ]
  },
  {
   "cell_type": "code",
   "execution_count": 9,
   "id": "31b2aa50",
   "metadata": {},
   "outputs": [
    {
     "data": {
      "text/plain": [
       "['euclidean_similarity',\n",
       " 'minkowski_distance',\n",
       " 'pearson_correlation',\n",
       " 'pearson_correlation_scipy',\n",
       " 'squared_euclidean_similarity']"
      ]
     },
     "execution_count": 9,
     "metadata": {},
     "output_type": "execute_result"
    }
   ],
   "source": [
    "awailable_modules()"
   ]
  },
  {
   "cell_type": "code",
   "execution_count": 10,
   "id": "28832193",
   "metadata": {},
   "outputs": [
    {
     "name": "stdout",
     "output_type": "stream",
     "text": [
      "\n",
      " The pearson_correlation is 1.0\n"
     ]
    }
   ],
   "source": [
    "print(Similarity(sim ='pearson_correlation', target_r =[1,2,3,6,7,8] , closest_r = [1,2,3,6,7,8]))"
   ]
  },
  {
   "cell_type": "code",
   "execution_count": 33,
   "id": "6cfcaf34",
   "metadata": {},
   "outputs": [],
   "source": [
    "from scipy.spatial.distance import minkowski,cosine scipy.stats.spearmanr"
   ]
  },
  {
   "cell_type": "code",
   "execution_count": 122,
   "id": "dbfc3c27",
   "metadata": {},
   "outputs": [
    {
     "data": {
      "text/plain": [
       "2.0"
      ]
     },
     "execution_count": 122,
     "metadata": {},
     "output_type": "execute_result"
    }
   ],
   "source": [
    "minkowski([1,2,3,6,7,8,7],[1,2,3,6,7,8,9])"
   ]
  },
  {
   "cell_type": "code",
   "execution_count": 41,
   "id": "5e2d69dc",
   "metadata": {},
   "outputs": [
    {
     "data": {
      "text/plain": [
       "1.0"
      ]
     },
     "execution_count": 41,
     "metadata": {},
     "output_type": "execute_result"
    }
   ],
   "source": [
    "getSimilarity(sim = 'spearman_correlation_similarity', target_r =[1,2,3,6,7,8,100] , closest_r = [1,2,3,6,7,8,100])"
   ]
  },
  {
   "cell_type": "code",
   "execution_count": 35,
   "id": "46e9a1e6",
   "metadata": {},
   "outputs": [
    {
     "data": {
      "text/plain": [
       "0.0"
      ]
     },
     "execution_count": 35,
     "metadata": {},
     "output_type": "execute_result"
    }
   ],
   "source": [
    "cosine([1,2,3,6,7,8,100],[1,2,3,6,7,8,100])"
   ]
  },
  {
   "cell_type": "code",
   "execution_count": null,
   "id": "4dd6a686",
   "metadata": {},
   "outputs": [],
   "source": []
  }
 ],
 "metadata": {
  "kernelspec": {
   "display_name": "Python 3",
   "language": "python",
   "name": "python3"
  },
  "language_info": {
   "codemirror_mode": {
    "name": "ipython",
    "version": 3
   },
   "file_extension": ".py",
   "mimetype": "text/x-python",
   "name": "python",
   "nbconvert_exporter": "python",
   "pygments_lexer": "ipython3",
   "version": "3.8.8"
  }
 },
 "nbformat": 4,
 "nbformat_minor": 5
}
