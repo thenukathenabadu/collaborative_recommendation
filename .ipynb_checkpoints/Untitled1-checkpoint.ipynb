{
 "cells": [
  {
   "cell_type": "code",
   "execution_count": 1,
   "id": "145a0506",
   "metadata": {},
   "outputs": [],
   "source": [
    "import test as t"
   ]
  },
  {
   "cell_type": "code",
   "execution_count": 2,
   "id": "098b89dc",
   "metadata": {},
   "outputs": [],
   "source": [
    "from load_data_set import Load_data\n",
    "from scipy.sparse import csr_matrix\n",
    "import numpy as np\n",
    "from sklearn.neighbors import NearestNeighbors\n",
    "class Knn(Load_data):\n",
    "    def __init__(self,metric,n_neighbors):\n",
    "        self.urls = None\n",
    "        self.metric = metric\n",
    "        self.n_neighbors = n_neighbors\n",
    "    def set_values(self,urls,dataset):\n",
    "        self.set_urls(urls)\n",
    "        self.main_df = self.get_user_preferences_df()\n",
    "        self.target_df = dataset\n",
    "    def preprocess(self):\n",
    "        filterd_main = self.main_df[self.main_df['userID'].isin(self.target_df['userID'].to_list())]\n",
    "        reco_sample_u = filterd_main.drop_duplicates(['userID', 'bookTitle'])\n",
    "        self.user_rating_pivot = reco_sample_u.pivot(index = 'bookTitle', columns = 'userID', values = 'bookRating').fillna(0)\n",
    "        self.user_rating_matrix = csr_matrix(self.user_rating_pivot.values)\n",
    "    def knn_algo(self):\n",
    "        model_knn = NearestNeighbors(metric = self.metric, algorithm = 'brute',leaf_size=30,metric_params=None, n_jobs=1, n_neighbors=self.n_neighbors, p=2, radius=1.0)\n",
    "        model_knn.fit(self.user_rating_matrix)\n",
    "        self.query_index = np.random.choice(self.user_rating_pivot.shape[0])\n",
    "        self.distances, self.indices = model_knn.kneighbors(self.user_rating_pivot.iloc[self.query_index, :].values.reshape(1, -1), n_neighbors = self.n_neighbors)\n",
    "    def print_(self):\n",
    "        for i in range(0, len(self.distances.flatten())):\n",
    "            print('{0}: {1}, with distance of {2}:'.format(i+1, self.user_rating_pivot.index[self.indices.flatten()[i]], self.distances.flatten()[i]))\n",
    "#             if i == 0:\n",
    "#                 print('Recommendations for {0}:\\n'.format(self.user_rating_pivot.index[self.query_index]))\n",
    "#             else:\n",
    "#                 print('{0}: {1}, with distance of {2}:'.format(i, self.user_rating_pivot.index[self.indices.flatten()[i]], self.distances.flatten()[i]))\n",
    "        "
   ]
  },
  {
   "cell_type": "code",
   "execution_count": 3,
   "id": "666c8f15",
   "metadata": {},
   "outputs": [],
   "source": [
    "new_t = t.Test()"
   ]
  },
  {
   "cell_type": "code",
   "execution_count": 4,
   "id": "ec679443",
   "metadata": {},
   "outputs": [
    {
     "name": "stdout",
     "output_type": "stream",
     "text": [
      "## Test Case Input User Id : Collabarative Recomondation System by Asiri Thenuka Thenabadu : 31048197 ##\n",
      "User Base Closest Users\n"
     ]
    }
   ],
   "source": [
    "df = new_t.test_case()"
   ]
  },
  {
   "cell_type": "code",
   "execution_count": 5,
   "id": "77dd5ed9",
   "metadata": {},
   "outputs": [
    {
     "data": {
      "text/plain": [
       "[236959, 185233, 170513, 11676, 236283, 225087, 235392, 13552, 16795, 43842]"
      ]
     },
     "execution_count": 5,
     "metadata": {},
     "output_type": "execute_result"
    }
   ],
   "source": [
    "df['userID'].to_list()"
   ]
  },
  {
   "cell_type": "code",
   "execution_count": 6,
   "id": "6e992b2d",
   "metadata": {},
   "outputs": [],
   "source": [
    "from load_data_set import Load_data\n",
    "ld = Load_data()\n",
    "urls = ['Books.csv','Users.csv','Book-Ratings.csv']\n",
    "ld.set_urls(urls)\n",
    "main_df = ld.get_user_preferences_df()"
   ]
  },
  {
   "cell_type": "code",
   "execution_count": 7,
   "id": "95bd59a7",
   "metadata": {},
   "outputs": [],
   "source": [
    "k = Knn('cosine',10)"
   ]
  },
  {
   "cell_type": "code",
   "execution_count": 8,
   "id": "b697a376",
   "metadata": {},
   "outputs": [],
   "source": [
    "k.set_values(urls,df)"
   ]
  },
  {
   "cell_type": "code",
   "execution_count": 9,
   "id": "8da54cd8",
   "metadata": {},
   "outputs": [],
   "source": [
    "k.preprocess()"
   ]
  },
  {
   "cell_type": "code",
   "execution_count": 10,
   "id": "cdc10815",
   "metadata": {},
   "outputs": [],
   "source": [
    "k.knn_algo()"
   ]
  },
  {
   "cell_type": "code",
   "execution_count": 11,
   "id": "84182304",
   "metadata": {},
   "outputs": [
    {
     "name": "stdout",
     "output_type": "stream",
     "text": [
      "0: Sleeping Murder (Miss Marple Mysteries (Paperback)), with distance of 1.0:\n",
      "1: Sleeping Murder, with distance of 1.0:\n",
      "2: Sleepwalk, with distance of 1.0:\n",
      "3: Sleeping at the Starlite Motel: And Other Adventures on the Way Back Home, with distance of 1.0:\n",
      "4: Sleeping With Her Rival  (Dynasties: The Barones), with distance of 1.0:\n",
      "5: Sleeping With Beauty, with distance of 1.0:\n",
      "6: Sleeping Tiger, with distance of 1.0:\n",
      "7: Slightly Scandalous (Get Connected Romances), with distance of 1.0:\n",
      "8: Sleeping Beauty: A Novel, with distance of 1.0:\n",
      "9: Sleeping Beauty and Other Fairy Tales (Dover Children's Thrift Classics), with distance of 1.0:\n"
     ]
    }
   ],
   "source": [
    "k.print_()"
   ]
  },
  {
   "cell_type": "code",
   "execution_count": null,
   "id": "0a92e3c9",
   "metadata": {},
   "outputs": [],
   "source": []
  },
  {
   "cell_type": "code",
   "execution_count": 124,
   "id": "b9228f20",
   "metadata": {},
   "outputs": [],
   "source": [
    "from load_data_set import Load_data\n",
    "ld = Load_data()\n",
    "urls = ['Books.csv','Users.csv','Book-Ratings.csv']\n",
    "ld.set_urls(urls)\n",
    "main_df = ld.get_user_preferences_df()"
   ]
  },
  {
   "cell_type": "code",
   "execution_count": 125,
   "id": "d0c27e81",
   "metadata": {},
   "outputs": [],
   "source": [
    "reco_sample = main_df[main_df['userID'].isin([236959, 185233, 170513, 11676, 236283, 225087, 235392, 13552, 16795, 43842])]"
   ]
  },
  {
   "cell_type": "code",
   "execution_count": 127,
   "id": "a3995ce7",
   "metadata": {},
   "outputs": [],
   "source": [
    "reco_sample1 = reco_sample"
   ]
  },
  {
   "cell_type": "code",
   "execution_count": 128,
   "id": "9bf54e64",
   "metadata": {},
   "outputs": [],
   "source": [
    "reco_sample1.reset_index(drop=True, inplace=True)\n",
    "# d = {}\n",
    "# for i, j in enumerate(reco_sample['userID'].unique()):\n",
    "#     d[j] = i\n",
    "# reco_sample['unique_user_id'] = reco_sample['userID'].map(d)"
   ]
  },
  {
   "cell_type": "code",
   "execution_count": 129,
   "id": "a7d3eccc",
   "metadata": {},
   "outputs": [
    {
     "data": {
      "text/plain": [
       "array([ 11676, 185233,  13552,  43842,  16795, 225087, 235392, 236283,\n",
       "       236959, 170513], dtype=int64)"
      ]
     },
     "execution_count": 129,
     "metadata": {},
     "output_type": "execute_result"
    }
   ],
   "source": [
    "reco_sample1['userID'].unique()"
   ]
  },
  {
   "cell_type": "code",
   "execution_count": 130,
   "id": "ec24cf64",
   "metadata": {},
   "outputs": [],
   "source": [
    "d = {}\n",
    "for i, j in enumerate(reco_sample1['userID'].unique()):\n",
    "    d[j] = i"
   ]
  },
  {
   "cell_type": "code",
   "execution_count": 131,
   "id": "17bc1aa7",
   "metadata": {},
   "outputs": [
    {
     "data": {
      "text/html": [
       "<div>\n",
       "<style scoped>\n",
       "    .dataframe tbody tr th:only-of-type {\n",
       "        vertical-align: middle;\n",
       "    }\n",
       "\n",
       "    .dataframe tbody tr th {\n",
       "        vertical-align: top;\n",
       "    }\n",
       "\n",
       "    .dataframe thead th {\n",
       "        text-align: right;\n",
       "    }\n",
       "</style>\n",
       "<table border=\"1\" class=\"dataframe\">\n",
       "  <thead>\n",
       "    <tr style=\"text-align: right;\">\n",
       "      <th></th>\n",
       "      <th>userID</th>\n",
       "      <th>ISBN</th>\n",
       "      <th>bookRating</th>\n",
       "      <th>bookTitle</th>\n",
       "      <th>bookAuthor</th>\n",
       "    </tr>\n",
       "  </thead>\n",
       "  <tbody>\n",
       "    <tr>\n",
       "      <th>0</th>\n",
       "      <td>11676</td>\n",
       "      <td>0446520802</td>\n",
       "      <td>10</td>\n",
       "      <td>The Notebook</td>\n",
       "      <td>Nicholas Sparks</td>\n",
       "    </tr>\n",
       "    <tr>\n",
       "      <th>1</th>\n",
       "      <td>185233</td>\n",
       "      <td>0446520802</td>\n",
       "      <td>7</td>\n",
       "      <td>The Notebook</td>\n",
       "      <td>Nicholas Sparks</td>\n",
       "    </tr>\n",
       "    <tr>\n",
       "      <th>2</th>\n",
       "      <td>11676</td>\n",
       "      <td>038550120X</td>\n",
       "      <td>10</td>\n",
       "      <td>A Painted House</td>\n",
       "      <td>JOHN GRISHAM</td>\n",
       "    </tr>\n",
       "    <tr>\n",
       "      <th>3</th>\n",
       "      <td>13552</td>\n",
       "      <td>038550120X</td>\n",
       "      <td>0</td>\n",
       "      <td>A Painted House</td>\n",
       "      <td>JOHN GRISHAM</td>\n",
       "    </tr>\n",
       "    <tr>\n",
       "      <th>4</th>\n",
       "      <td>43842</td>\n",
       "      <td>038550120X</td>\n",
       "      <td>0</td>\n",
       "      <td>A Painted House</td>\n",
       "      <td>JOHN GRISHAM</td>\n",
       "    </tr>\n",
       "    <tr>\n",
       "      <th>...</th>\n",
       "      <td>...</td>\n",
       "      <td>...</td>\n",
       "      <td>...</td>\n",
       "      <td>...</td>\n",
       "      <td>...</td>\n",
       "    </tr>\n",
       "    <tr>\n",
       "      <th>21162</th>\n",
       "      <td>236959</td>\n",
       "      <td>158411035X</td>\n",
       "      <td>0</td>\n",
       "      <td>The Christian Girl's Guide to Being Your Best</td>\n",
       "      <td>Katrina Cassel</td>\n",
       "    </tr>\n",
       "    <tr>\n",
       "      <th>21163</th>\n",
       "      <td>236959</td>\n",
       "      <td>1888952938</td>\n",
       "      <td>0</td>\n",
       "      <td>Smokehouse Ham, Spoon Bread, &amp;amp; Scuppernong...</td>\n",
       "      <td>Joseph Earl Dabney</td>\n",
       "    </tr>\n",
       "    <tr>\n",
       "      <th>21164</th>\n",
       "      <td>236959</td>\n",
       "      <td>1893103056</td>\n",
       "      <td>7</td>\n",
       "      <td>Abraham Lincoln's World</td>\n",
       "      <td>Genevieve Foster</td>\n",
       "    </tr>\n",
       "    <tr>\n",
       "      <th>21165</th>\n",
       "      <td>236959</td>\n",
       "      <td>1931585091</td>\n",
       "      <td>0</td>\n",
       "      <td>Resolving Stress in Your Marriage: How to Iden...</td>\n",
       "      <td>Jimmy Evans</td>\n",
       "    </tr>\n",
       "    <tr>\n",
       "      <th>21166</th>\n",
       "      <td>236959</td>\n",
       "      <td>4817090014</td>\n",
       "      <td>9</td>\n",
       "      <td>Origami Omnibus: Paper-Folding for Everybody</td>\n",
       "      <td>Kunihiko Kasahara</td>\n",
       "    </tr>\n",
       "  </tbody>\n",
       "</table>\n",
       "<p>21167 rows × 5 columns</p>\n",
       "</div>"
      ],
      "text/plain": [
       "       userID        ISBN  bookRating  \\\n",
       "0       11676  0446520802          10   \n",
       "1      185233  0446520802           7   \n",
       "2       11676  038550120X          10   \n",
       "3       13552  038550120X           0   \n",
       "4       43842  038550120X           0   \n",
       "...       ...         ...         ...   \n",
       "21162  236959  158411035X           0   \n",
       "21163  236959  1888952938           0   \n",
       "21164  236959  1893103056           7   \n",
       "21165  236959  1931585091           0   \n",
       "21166  236959  4817090014           9   \n",
       "\n",
       "                                               bookTitle          bookAuthor  \n",
       "0                                           The Notebook     Nicholas Sparks  \n",
       "1                                           The Notebook     Nicholas Sparks  \n",
       "2                                        A Painted House        JOHN GRISHAM  \n",
       "3                                        A Painted House        JOHN GRISHAM  \n",
       "4                                        A Painted House        JOHN GRISHAM  \n",
       "...                                                  ...                 ...  \n",
       "21162      The Christian Girl's Guide to Being Your Best      Katrina Cassel  \n",
       "21163  Smokehouse Ham, Spoon Bread, &amp; Scuppernong...  Joseph Earl Dabney  \n",
       "21164                            Abraham Lincoln's World    Genevieve Foster  \n",
       "21165  Resolving Stress in Your Marriage: How to Iden...         Jimmy Evans  \n",
       "21166       Origami Omnibus: Paper-Folding for Everybody   Kunihiko Kasahara  \n",
       "\n",
       "[21167 rows x 5 columns]"
      ]
     },
     "execution_count": 131,
     "metadata": {},
     "output_type": "execute_result"
    }
   ],
   "source": [
    "reco_sample1"
   ]
  },
  {
   "cell_type": "code",
   "execution_count": 134,
   "id": "c1cf07fa",
   "metadata": {},
   "outputs": [],
   "source": [
    "pd.options.mode.chained_assignment = None\n",
    "reco_sample1['unique_user_id'] = reco_sample1['userID'].map(d)"
   ]
  },
  {
   "cell_type": "code",
   "execution_count": 135,
   "id": "4c945d5e",
   "metadata": {},
   "outputs": [
    {
     "data": {
      "text/html": [
       "<div>\n",
       "<style scoped>\n",
       "    .dataframe tbody tr th:only-of-type {\n",
       "        vertical-align: middle;\n",
       "    }\n",
       "\n",
       "    .dataframe tbody tr th {\n",
       "        vertical-align: top;\n",
       "    }\n",
       "\n",
       "    .dataframe thead th {\n",
       "        text-align: right;\n",
       "    }\n",
       "</style>\n",
       "<table border=\"1\" class=\"dataframe\">\n",
       "  <thead>\n",
       "    <tr style=\"text-align: right;\">\n",
       "      <th></th>\n",
       "      <th>userID</th>\n",
       "      <th>ISBN</th>\n",
       "      <th>bookRating</th>\n",
       "      <th>bookTitle</th>\n",
       "      <th>bookAuthor</th>\n",
       "      <th>unique_user_id</th>\n",
       "    </tr>\n",
       "  </thead>\n",
       "  <tbody>\n",
       "    <tr>\n",
       "      <th>0</th>\n",
       "      <td>11676</td>\n",
       "      <td>0446520802</td>\n",
       "      <td>10</td>\n",
       "      <td>The Notebook</td>\n",
       "      <td>Nicholas Sparks</td>\n",
       "      <td>0</td>\n",
       "    </tr>\n",
       "    <tr>\n",
       "      <th>1</th>\n",
       "      <td>185233</td>\n",
       "      <td>0446520802</td>\n",
       "      <td>7</td>\n",
       "      <td>The Notebook</td>\n",
       "      <td>Nicholas Sparks</td>\n",
       "      <td>1</td>\n",
       "    </tr>\n",
       "    <tr>\n",
       "      <th>2</th>\n",
       "      <td>11676</td>\n",
       "      <td>038550120X</td>\n",
       "      <td>10</td>\n",
       "      <td>A Painted House</td>\n",
       "      <td>JOHN GRISHAM</td>\n",
       "      <td>0</td>\n",
       "    </tr>\n",
       "    <tr>\n",
       "      <th>3</th>\n",
       "      <td>13552</td>\n",
       "      <td>038550120X</td>\n",
       "      <td>0</td>\n",
       "      <td>A Painted House</td>\n",
       "      <td>JOHN GRISHAM</td>\n",
       "      <td>2</td>\n",
       "    </tr>\n",
       "    <tr>\n",
       "      <th>4</th>\n",
       "      <td>43842</td>\n",
       "      <td>038550120X</td>\n",
       "      <td>0</td>\n",
       "      <td>A Painted House</td>\n",
       "      <td>JOHN GRISHAM</td>\n",
       "      <td>3</td>\n",
       "    </tr>\n",
       "    <tr>\n",
       "      <th>...</th>\n",
       "      <td>...</td>\n",
       "      <td>...</td>\n",
       "      <td>...</td>\n",
       "      <td>...</td>\n",
       "      <td>...</td>\n",
       "      <td>...</td>\n",
       "    </tr>\n",
       "    <tr>\n",
       "      <th>21162</th>\n",
       "      <td>236959</td>\n",
       "      <td>158411035X</td>\n",
       "      <td>0</td>\n",
       "      <td>The Christian Girl's Guide to Being Your Best</td>\n",
       "      <td>Katrina Cassel</td>\n",
       "      <td>8</td>\n",
       "    </tr>\n",
       "    <tr>\n",
       "      <th>21163</th>\n",
       "      <td>236959</td>\n",
       "      <td>1888952938</td>\n",
       "      <td>0</td>\n",
       "      <td>Smokehouse Ham, Spoon Bread, &amp;amp; Scuppernong...</td>\n",
       "      <td>Joseph Earl Dabney</td>\n",
       "      <td>8</td>\n",
       "    </tr>\n",
       "    <tr>\n",
       "      <th>21164</th>\n",
       "      <td>236959</td>\n",
       "      <td>1893103056</td>\n",
       "      <td>7</td>\n",
       "      <td>Abraham Lincoln's World</td>\n",
       "      <td>Genevieve Foster</td>\n",
       "      <td>8</td>\n",
       "    </tr>\n",
       "    <tr>\n",
       "      <th>21165</th>\n",
       "      <td>236959</td>\n",
       "      <td>1931585091</td>\n",
       "      <td>0</td>\n",
       "      <td>Resolving Stress in Your Marriage: How to Iden...</td>\n",
       "      <td>Jimmy Evans</td>\n",
       "      <td>8</td>\n",
       "    </tr>\n",
       "    <tr>\n",
       "      <th>21166</th>\n",
       "      <td>236959</td>\n",
       "      <td>4817090014</td>\n",
       "      <td>9</td>\n",
       "      <td>Origami Omnibus: Paper-Folding for Everybody</td>\n",
       "      <td>Kunihiko Kasahara</td>\n",
       "      <td>8</td>\n",
       "    </tr>\n",
       "  </tbody>\n",
       "</table>\n",
       "<p>21167 rows × 6 columns</p>\n",
       "</div>"
      ],
      "text/plain": [
       "       userID        ISBN  bookRating  \\\n",
       "0       11676  0446520802          10   \n",
       "1      185233  0446520802           7   \n",
       "2       11676  038550120X          10   \n",
       "3       13552  038550120X           0   \n",
       "4       43842  038550120X           0   \n",
       "...       ...         ...         ...   \n",
       "21162  236959  158411035X           0   \n",
       "21163  236959  1888952938           0   \n",
       "21164  236959  1893103056           7   \n",
       "21165  236959  1931585091           0   \n",
       "21166  236959  4817090014           9   \n",
       "\n",
       "                                               bookTitle          bookAuthor  \\\n",
       "0                                           The Notebook     Nicholas Sparks   \n",
       "1                                           The Notebook     Nicholas Sparks   \n",
       "2                                        A Painted House        JOHN GRISHAM   \n",
       "3                                        A Painted House        JOHN GRISHAM   \n",
       "4                                        A Painted House        JOHN GRISHAM   \n",
       "...                                                  ...                 ...   \n",
       "21162      The Christian Girl's Guide to Being Your Best      Katrina Cassel   \n",
       "21163  Smokehouse Ham, Spoon Bread, &amp; Scuppernong...  Joseph Earl Dabney   \n",
       "21164                            Abraham Lincoln's World    Genevieve Foster   \n",
       "21165  Resolving Stress in Your Marriage: How to Iden...         Jimmy Evans   \n",
       "21166       Origami Omnibus: Paper-Folding for Everybody   Kunihiko Kasahara   \n",
       "\n",
       "       unique_user_id  \n",
       "0                   0  \n",
       "1                   1  \n",
       "2                   0  \n",
       "3                   2  \n",
       "4                   3  \n",
       "...               ...  \n",
       "21162               8  \n",
       "21163               8  \n",
       "21164               8  \n",
       "21165               8  \n",
       "21166               8  \n",
       "\n",
       "[21167 rows x 6 columns]"
      ]
     },
     "execution_count": 135,
     "metadata": {},
     "output_type": "execute_result"
    }
   ],
   "source": [
    "reco_sample1"
   ]
  },
  {
   "cell_type": "code",
   "execution_count": 137,
   "id": "5ff0ebc1",
   "metadata": {},
   "outputs": [],
   "source": [
    "users_books_pivot_matrix_df = reco_sample1.pivot(index='unique_user_id',columns='ISBN',values='bookRating').fillna(0)"
   ]
  },
  {
   "cell_type": "code",
   "execution_count": 139,
   "id": "e8257cab",
   "metadata": {},
   "outputs": [
    {
     "name": "stdout",
     "output_type": "stream",
     "text": [
      "10\n"
     ]
    }
   ],
   "source": [
    "users_books_pivot_matrix_df = users_books_pivot_matrix_df.values\n",
    "print(min(users_books_pivot_matrix_df.shape))"
   ]
  },
  {
   "cell_type": "code",
   "execution_count": 142,
   "id": "34cc5c7d",
   "metadata": {},
   "outputs": [],
   "source": [
    "import pandas as pd\n",
    "from surprise import SVD\n",
    "from surprise import Dataset\n",
    "from surprise import accuracy\n",
    "from surprise import KNNWithMeans\n",
    "from surprise.model_selection import KFold\n",
    "from surprise import Reader\n",
    "from sklearn.neighbors import NearestNeighbors\n",
    "from scipy.sparse.linalg import svds\n",
    "import numpy as np\n",
    "NUMBER_OF_FACTORS_MF = 2\n",
    "U, sigma, Vt = svds(users_books_pivot_matrix_df, k=NUMBER_OF_FACTORS_MF)\n",
    "sigma = np.diag(sigma)"
   ]
  },
  {
   "cell_type": "code",
   "execution_count": 145,
   "id": "6e1f2b08",
   "metadata": {},
   "outputs": [
    {
     "data": {
      "text/plain": [
       "array([[ 0.        ,  0.        ,  0.        , ...,  0.00103197,\n",
       "         0.        ,  0.00147424],\n",
       "       [ 0.        ,  0.        ,  0.        , ..., -0.01100163,\n",
       "         0.        , -0.01571661]])"
      ]
     },
     "execution_count": 145,
     "metadata": {},
     "output_type": "execute_result"
    }
   ],
   "source": [
    "Vt"
   ]
  },
  {
   "cell_type": "code",
   "execution_count": 146,
   "id": "2b31bb00",
   "metadata": {},
   "outputs": [],
   "source": [
    "sigma = np.diag(sigma)\n",
    "# all_user_predicted_ratings = np.dot(np.dot(U, sigma), Vt)\n",
    "k = 22\n",
    "top_n = 12\n",
    "sliced = Vt.T[:, :k]"
   ]
  },
  {
   "cell_type": "code",
   "execution_count": 147,
   "id": "009d0070",
   "metadata": {},
   "outputs": [
    {
     "data": {
      "text/plain": [
       "array([[ 0.        ,  0.        ],\n",
       "       [ 0.        ,  0.        ],\n",
       "       [ 0.        ,  0.        ],\n",
       "       ...,\n",
       "       [ 0.00103197, -0.01100163],\n",
       "       [ 0.        ,  0.        ],\n",
       "       [ 0.00147424, -0.01571661]])"
      ]
     },
     "execution_count": 147,
     "metadata": {},
     "output_type": "execute_result"
    }
   ],
   "source": [
    "sliced"
   ]
  },
  {
   "cell_type": "code",
   "execution_count": null,
   "id": "efc3d763",
   "metadata": {},
   "outputs": [],
   "source": []
  },
  {
   "cell_type": "code",
   "execution_count": null,
   "id": "9c37bc47",
   "metadata": {},
   "outputs": [],
   "source": []
  },
  {
   "cell_type": "code",
   "execution_count": null,
   "id": "9fa3e86d",
   "metadata": {},
   "outputs": [],
   "source": []
  },
  {
   "cell_type": "code",
   "execution_count": 37,
   "id": "dd45484b",
   "metadata": {},
   "outputs": [],
   "source": [
    "from scipy.sparse import csr_matrix\n",
    "reco_sample_u = reco_sample.drop_duplicates(['userID', 'bookTitle'])\n",
    "user_rating_pivot = reco_sample_u.pivot(index = 'bookTitle', columns = 'userID', values = 'bookRating').fillna(0)\n",
    "user_rating_matrix = csr_matrix(user_rating_pivot.values)"
   ]
  },
  {
   "cell_type": "code",
   "execution_count": 40,
   "id": "42aad587",
   "metadata": {},
   "outputs": [],
   "source": [
    "# user_rating_pivot"
   ]
  },
  {
   "cell_type": "code",
   "execution_count": 42,
   "id": "1337f714",
   "metadata": {},
   "outputs": [
    {
     "data": {
      "text/plain": [
       "NearestNeighbors(algorithm='brute', metric='cosine', n_jobs=1)"
      ]
     },
     "execution_count": 42,
     "metadata": {},
     "output_type": "execute_result"
    }
   ],
   "source": [
    "from sklearn.neighbors import NearestNeighbors\n",
    "\n",
    "model_knn = NearestNeighbors(metric = 'cosine', algorithm = 'brute',leaf_size=30,metric_params=None, n_jobs=1, n_neighbors=5, p=2, radius=1.0)\n",
    "model_knn.fit(user_rating_matrix)"
   ]
  },
  {
   "cell_type": "code",
   "execution_count": 45,
   "id": "881beb76",
   "metadata": {},
   "outputs": [],
   "source": [
    "import numpy as np\n",
    "query_index = np.random.choice(user_rating_pivot.shape[0])\n"
   ]
  },
  {
   "cell_type": "code",
   "execution_count": 49,
   "id": "279600fd",
   "metadata": {},
   "outputs": [
    {
     "data": {
      "text/plain": [
       "userID\n",
       "11676     0.0\n",
       "13552     0.0\n",
       "16795     0.0\n",
       "43842     0.0\n",
       "170513    0.0\n",
       "185233    0.0\n",
       "225087    0.0\n",
       "235392    0.0\n",
       "236283    0.0\n",
       "236959    0.0\n",
       "Name: Chocolate Chips and Trumpet Tricks (Alex Devotions), dtype: float64"
      ]
     },
     "execution_count": 49,
     "metadata": {},
     "output_type": "execute_result"
    }
   ],
   "source": [
    "numpy.reshape(user_rating_pivot.iloc[query_index, :],(1, -1))\n",
    "user_rating_pivot.iloc[query_index, :].reshape(1, -1)"
   ]
  },
  {
   "cell_type": "code",
   "execution_count": 58,
   "id": "102a6f08",
   "metadata": {},
   "outputs": [],
   "source": [
    "# np.reshape(user_rating_pivot.iloc[query_index, :],(2, 5))"
   ]
  },
  {
   "cell_type": "code",
   "execution_count": 59,
   "id": "5b53b00c",
   "metadata": {},
   "outputs": [
    {
     "name": "stdout",
     "output_type": "stream",
     "text": [
      "Recommendations for Chocolate Chips and Trumpet Tricks (Alex Devotions):\n",
      "\n",
      "1: Sleeping Murder, with distance of 1.0:\n",
      "2: Sleepwalk, with distance of 1.0:\n",
      "3: Sleeping at the Starlite Motel: And Other Adventures on the Way Back Home, with distance of 1.0:\n",
      "4: Sleeping With Her Rival  (Dynasties: The Barones), with distance of 1.0:\n",
      "5: Sleeping With Beauty, with distance of 1.0:\n",
      "6: Sleeping Tiger, with distance of 1.0:\n",
      "7: Slightly Scandalous (Get Connected Romances), with distance of 1.0:\n",
      "8: Sleeping Beauty: A Novel, with distance of 1.0:\n",
      "9: Sleeping Beauty and Other Fairy Tales (Dover Children's Thrift Classics), with distance of 1.0:\n"
     ]
    }
   ],
   "source": [
    "distances, indices = model_knn.kneighbors(user_rating_pivot.iloc[query_index, :].values.reshape(1, -1), n_neighbors = 10)\n",
    "\n",
    "for i in range(0, len(distances.flatten())):\n",
    "    if i == 0:\n",
    "        print('Recommendations for {0}:\\n'.format(user_rating_pivot.index[query_index]))\n",
    "    else:\n",
    "        print('{0}: {1}, with distance of {2}:'.format(i, user_rating_pivot.index[indices.flatten()[i]], distances.flatten()[i]))"
   ]
  },
  {
   "cell_type": "code",
   "execution_count": null,
   "id": "759f4d3a",
   "metadata": {},
   "outputs": [],
   "source": []
  },
  {
   "cell_type": "code",
   "execution_count": null,
   "id": "6bed9044",
   "metadata": {},
   "outputs": [],
   "source": [
    "query_index = np.random.choice(us_canada_user_rating_pivot.shape[0])\n",
    "distances, indices = model_knn.kneighbors(us_canada_user_rating_pivot.iloc[query_index, :].reshape(1, -1), n_neighbors = 6)\n",
    "\n",
    "for i in range(0, len(distances.flatten())):\n",
    "    if i == 0:\n",
    "        print('Recommendations for {0}:\\n'.format(us_canada_user_rating_pivot.index[query_index]))\n",
    "    else:\n",
    "        print('{0}: {1}, with distance of {2}:'.format(i, us_canada_user_rating_pivot.index[indices.flatten()[i]], distances.flatten()[i]))"
   ]
  },
  {
   "cell_type": "code",
   "execution_count": 27,
   "id": "0a4a8e3d",
   "metadata": {},
   "outputs": [
    {
     "data": {
      "text/html": [
       "<div>\n",
       "<style scoped>\n",
       "    .dataframe tbody tr th:only-of-type {\n",
       "        vertical-align: middle;\n",
       "    }\n",
       "\n",
       "    .dataframe tbody tr th {\n",
       "        vertical-align: top;\n",
       "    }\n",
       "\n",
       "    .dataframe thead th {\n",
       "        text-align: right;\n",
       "    }\n",
       "</style>\n",
       "<table border=\"1\" class=\"dataframe\">\n",
       "  <thead>\n",
       "    <tr style=\"text-align: right;\">\n",
       "      <th></th>\n",
       "      <th>userID</th>\n",
       "      <th>ISBN</th>\n",
       "      <th>bookRating</th>\n",
       "      <th>bookTitle</th>\n",
       "      <th>bookAuthor</th>\n",
       "    </tr>\n",
       "  </thead>\n",
       "  <tbody>\n",
       "    <tr>\n",
       "      <th>0</th>\n",
       "      <td>276725</td>\n",
       "      <td>034545104X</td>\n",
       "      <td>0</td>\n",
       "      <td>Flesh Tones: A Novel</td>\n",
       "      <td>M. J. Rose</td>\n",
       "    </tr>\n",
       "    <tr>\n",
       "      <th>1</th>\n",
       "      <td>2313</td>\n",
       "      <td>034545104X</td>\n",
       "      <td>5</td>\n",
       "      <td>Flesh Tones: A Novel</td>\n",
       "      <td>M. J. Rose</td>\n",
       "    </tr>\n",
       "  </tbody>\n",
       "</table>\n",
       "</div>"
      ],
      "text/plain": [
       "   userID        ISBN  bookRating             bookTitle  bookAuthor\n",
       "0  276725  034545104X           0  Flesh Tones: A Novel  M. J. Rose\n",
       "1    2313  034545104X           5  Flesh Tones: A Novel  M. J. Rose"
      ]
     },
     "execution_count": 27,
     "metadata": {},
     "output_type": "execute_result"
    }
   ],
   "source": [
    "main_df.head(2)"
   ]
  },
  {
   "cell_type": "code",
   "execution_count": 28,
   "id": "588c72e6",
   "metadata": {},
   "outputs": [
    {
     "ename": "KeyError",
     "evalue": "'userID'",
     "output_type": "error",
     "traceback": [
      "\u001b[1;31m---------------------------------------------------------------------------\u001b[0m",
      "\u001b[1;31mKeyError\u001b[0m                                  Traceback (most recent call last)",
      "\u001b[1;32m<ipython-input-28-6b0667e0e485>\u001b[0m in \u001b[0;36m<module>\u001b[1;34m\u001b[0m\n\u001b[0;32m      1\u001b[0m \u001b[1;32mimport\u001b[0m \u001b[0mpandas\u001b[0m \u001b[1;32mas\u001b[0m \u001b[0mpd\u001b[0m\u001b[1;33m\u001b[0m\u001b[1;33m\u001b[0m\u001b[0m\n\u001b[1;32m----> 2\u001b[1;33m \u001b[0mcombined_df\u001b[0m \u001b[1;33m=\u001b[0m \u001b[0mpd\u001b[0m\u001b[1;33m.\u001b[0m\u001b[0mmerge\u001b[0m\u001b[1;33m(\u001b[0m\u001b[0mdf\u001b[0m\u001b[1;33m,\u001b[0m\u001b[0mmain_df\u001b[0m\u001b[1;33m[\u001b[0m\u001b[1;33m[\u001b[0m\u001b[1;34m'ISBN'\u001b[0m\u001b[1;33m,\u001b[0m\u001b[1;34m'bookTitle'\u001b[0m\u001b[1;33m,\u001b[0m \u001b[1;34m'bookRating'\u001b[0m\u001b[1;33m]\u001b[0m\u001b[1;33m]\u001b[0m\u001b[1;33m,\u001b[0m\u001b[0mon\u001b[0m\u001b[1;33m=\u001b[0m\u001b[1;34m'userID'\u001b[0m\u001b[1;33m)\u001b[0m\u001b[1;33m\u001b[0m\u001b[1;33m\u001b[0m\u001b[0m\n\u001b[0m",
      "\u001b[1;32m~\\anaconda3\\lib\\site-packages\\pandas\\core\\reshape\\merge.py\u001b[0m in \u001b[0;36mmerge\u001b[1;34m(left, right, how, on, left_on, right_on, left_index, right_index, sort, suffixes, copy, indicator, validate)\u001b[0m\n\u001b[0;32m     72\u001b[0m     \u001b[0mvalidate\u001b[0m\u001b[1;33m=\u001b[0m\u001b[1;32mNone\u001b[0m\u001b[1;33m,\u001b[0m\u001b[1;33m\u001b[0m\u001b[1;33m\u001b[0m\u001b[0m\n\u001b[0;32m     73\u001b[0m ) -> \"DataFrame\":\n\u001b[1;32m---> 74\u001b[1;33m     op = _MergeOperation(\n\u001b[0m\u001b[0;32m     75\u001b[0m         \u001b[0mleft\u001b[0m\u001b[1;33m,\u001b[0m\u001b[1;33m\u001b[0m\u001b[1;33m\u001b[0m\u001b[0m\n\u001b[0;32m     76\u001b[0m         \u001b[0mright\u001b[0m\u001b[1;33m,\u001b[0m\u001b[1;33m\u001b[0m\u001b[1;33m\u001b[0m\u001b[0m\n",
      "\u001b[1;32m~\\anaconda3\\lib\\site-packages\\pandas\\core\\reshape\\merge.py\u001b[0m in \u001b[0;36m__init__\u001b[1;34m(self, left, right, how, on, left_on, right_on, axis, left_index, right_index, sort, suffixes, copy, indicator, validate)\u001b[0m\n\u001b[0;32m    666\u001b[0m             \u001b[0mself\u001b[0m\u001b[1;33m.\u001b[0m\u001b[0mright_join_keys\u001b[0m\u001b[1;33m,\u001b[0m\u001b[1;33m\u001b[0m\u001b[1;33m\u001b[0m\u001b[0m\n\u001b[0;32m    667\u001b[0m             \u001b[0mself\u001b[0m\u001b[1;33m.\u001b[0m\u001b[0mjoin_names\u001b[0m\u001b[1;33m,\u001b[0m\u001b[1;33m\u001b[0m\u001b[1;33m\u001b[0m\u001b[0m\n\u001b[1;32m--> 668\u001b[1;33m         ) = self._get_merge_keys()\n\u001b[0m\u001b[0;32m    669\u001b[0m \u001b[1;33m\u001b[0m\u001b[0m\n\u001b[0;32m    670\u001b[0m         \u001b[1;31m# validate the merge keys dtypes. We may need to coerce\u001b[0m\u001b[1;33m\u001b[0m\u001b[1;33m\u001b[0m\u001b[1;33m\u001b[0m\u001b[0m\n",
      "\u001b[1;32m~\\anaconda3\\lib\\site-packages\\pandas\\core\\reshape\\merge.py\u001b[0m in \u001b[0;36m_get_merge_keys\u001b[1;34m(self)\u001b[0m\n\u001b[0;32m   1031\u001b[0m                     \u001b[1;32mif\u001b[0m \u001b[1;32mnot\u001b[0m \u001b[0mis_rkey\u001b[0m\u001b[1;33m(\u001b[0m\u001b[0mrk\u001b[0m\u001b[1;33m)\u001b[0m\u001b[1;33m:\u001b[0m\u001b[1;33m\u001b[0m\u001b[1;33m\u001b[0m\u001b[0m\n\u001b[0;32m   1032\u001b[0m                         \u001b[1;32mif\u001b[0m \u001b[0mrk\u001b[0m \u001b[1;32mis\u001b[0m \u001b[1;32mnot\u001b[0m \u001b[1;32mNone\u001b[0m\u001b[1;33m:\u001b[0m\u001b[1;33m\u001b[0m\u001b[1;33m\u001b[0m\u001b[0m\n\u001b[1;32m-> 1033\u001b[1;33m                             \u001b[0mright_keys\u001b[0m\u001b[1;33m.\u001b[0m\u001b[0mappend\u001b[0m\u001b[1;33m(\u001b[0m\u001b[0mright\u001b[0m\u001b[1;33m.\u001b[0m\u001b[0m_get_label_or_level_values\u001b[0m\u001b[1;33m(\u001b[0m\u001b[0mrk\u001b[0m\u001b[1;33m)\u001b[0m\u001b[1;33m)\u001b[0m\u001b[1;33m\u001b[0m\u001b[1;33m\u001b[0m\u001b[0m\n\u001b[0m\u001b[0;32m   1034\u001b[0m                         \u001b[1;32melse\u001b[0m\u001b[1;33m:\u001b[0m\u001b[1;33m\u001b[0m\u001b[1;33m\u001b[0m\u001b[0m\n\u001b[0;32m   1035\u001b[0m                             \u001b[1;31m# work-around for merge_asof(right_index=True)\u001b[0m\u001b[1;33m\u001b[0m\u001b[1;33m\u001b[0m\u001b[1;33m\u001b[0m\u001b[0m\n",
      "\u001b[1;32m~\\anaconda3\\lib\\site-packages\\pandas\\core\\generic.py\u001b[0m in \u001b[0;36m_get_label_or_level_values\u001b[1;34m(self, key, axis)\u001b[0m\n\u001b[0;32m   1682\u001b[0m             \u001b[0mvalues\u001b[0m \u001b[1;33m=\u001b[0m \u001b[0mself\u001b[0m\u001b[1;33m.\u001b[0m\u001b[0maxes\u001b[0m\u001b[1;33m[\u001b[0m\u001b[0maxis\u001b[0m\u001b[1;33m]\u001b[0m\u001b[1;33m.\u001b[0m\u001b[0mget_level_values\u001b[0m\u001b[1;33m(\u001b[0m\u001b[0mkey\u001b[0m\u001b[1;33m)\u001b[0m\u001b[1;33m.\u001b[0m\u001b[0m_values\u001b[0m\u001b[1;33m\u001b[0m\u001b[1;33m\u001b[0m\u001b[0m\n\u001b[0;32m   1683\u001b[0m         \u001b[1;32melse\u001b[0m\u001b[1;33m:\u001b[0m\u001b[1;33m\u001b[0m\u001b[1;33m\u001b[0m\u001b[0m\n\u001b[1;32m-> 1684\u001b[1;33m             \u001b[1;32mraise\u001b[0m \u001b[0mKeyError\u001b[0m\u001b[1;33m(\u001b[0m\u001b[0mkey\u001b[0m\u001b[1;33m)\u001b[0m\u001b[1;33m\u001b[0m\u001b[1;33m\u001b[0m\u001b[0m\n\u001b[0m\u001b[0;32m   1685\u001b[0m \u001b[1;33m\u001b[0m\u001b[0m\n\u001b[0;32m   1686\u001b[0m         \u001b[1;31m# Check for duplicates\u001b[0m\u001b[1;33m\u001b[0m\u001b[1;33m\u001b[0m\u001b[1;33m\u001b[0m\u001b[0m\n",
      "\u001b[1;31mKeyError\u001b[0m: 'userID'"
     ]
    }
   ],
   "source": [
    "import pandas as pd\n",
    "combined_df = pd.merge(df,main_df[['ISBN','bookTitle', 'bookRating']],on='userID')"
   ]
  },
  {
   "cell_type": "code",
   "execution_count": null,
   "id": "c0932dc2",
   "metadata": {},
   "outputs": [],
   "source": []
  },
  {
   "cell_type": "code",
   "execution_count": null,
   "id": "ad827241",
   "metadata": {},
   "outputs": [],
   "source": [
    "combined = rating_popular_book.merge(users, left_on = 'userID', right_on = 'userID', how = 'left')\n",
    "\n",
    "us_canada_user_rating = combined[combined['Location'].str.contains(\"usa|canada\")]\n",
    "us_canada_user_rating=us_canada_user_rating.drop('Age', axis=1)\n",
    "us_canada_user_rating.head()"
   ]
  },
  {
   "cell_type": "code",
   "execution_count": null,
   "id": "ccc8269e",
   "metadata": {},
   "outputs": [],
   "source": []
  }
 ],
 "metadata": {
  "kernelspec": {
   "display_name": "Python 3",
   "language": "python",
   "name": "python3"
  },
  "language_info": {
   "codemirror_mode": {
    "name": "ipython",
    "version": 3
   },
   "file_extension": ".py",
   "mimetype": "text/x-python",
   "name": "python",
   "nbconvert_exporter": "python",
   "pygments_lexer": "ipython3",
   "version": "3.8.8"
  }
 },
 "nbformat": 4,
 "nbformat_minor": 5
}
