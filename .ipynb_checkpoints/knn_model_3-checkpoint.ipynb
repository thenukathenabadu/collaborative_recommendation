{
 "cells": [
  {
   "cell_type": "code",
   "execution_count": 42,
   "id": "e2a6fe5f",
   "metadata": {},
   "outputs": [],
   "source": [
    "from load_data_set import Load_data\n",
    "# from scipy.sparse import csr_matrix\n",
    "# import numpy as np\n",
    "# from sklearn.neighbors import NearestNeighbors\n",
    "from  sklearn.neighbors import KNeighborsClassifier \n",
    "import pandas as pd\n",
    "from sklearn.preprocessing import StandardScaler, LabelEncoder\n",
    "from sklearn.model_selection import train_test_split\n",
    "pd.options.mode.chained_assignment = None\n",
    "class Knn_m2(Load_data):\n",
    "    def __init__(self,n_neighbors=3,threshold=10,test_size=0.33):\n",
    "#         self.urls = None\n",
    "#         self.metric = metric\n",
    "        self.recomendations = {}\n",
    "        self.lb_en = LabelEncoder()\n",
    "        self.n_neighbors = n_neighbors\n",
    "        self.test_size = test_size\n",
    "        self.threshold = threshold\n",
    "    def set_values(self,urls,dataset,threshold=10):\n",
    "        self.set_urls(urls)\n",
    "        self.main_df = self.get_user_preferences_df()\n",
    "        self.target_df = dataset\n",
    "        self.threshold = threshold\n",
    "    def preprocess(self):\n",
    "        self.filterd_main = self.main_df[self.main_df['userID'].isin(self.target_df['userID'].to_list())]\n",
    "        self.filterd_main['enc_title'] = self.lb_en.fit_transform(self.filterd_main['bookTitle'])\n",
    "        self.filterd_main['enc_isbn'] = self.lb_en.fit_transform(self.filterd_main['ISBN'])\n",
    "        X = self.filterd_main.drop(['bookTitle','enc_title','ISBN','bookAuthor'],axis=1)\n",
    "        Y = self.filterd_main['enc_title']\n",
    "        self.train_x,self.test_x,self.train_y,self.test_y = train_test_split(X,Y,test_size=self.test_size)\n",
    "        scaler = StandardScaler()\n",
    "        self.X_train = scaler.fit_transform(self.train_x)\n",
    "        self.X_test = scaler.fit_transform(self.test_x)\n",
    "    def knn_algo(self):\n",
    "        knn = KNeighborsClassifier(n_neighbors=self.n_neighbors)\n",
    "        knn_model = knn.fit(self.X_train, self.train_y)#trains the classification model\n",
    "        predict_knn = knn_model.predict(self.X_test)#predicts the quality of wine using  classification model\n",
    "#         print(self.threshold)\n",
    "        self.pred_list = predict_knn[:self.threshold]\n",
    "#         print(self.pred_list)\n",
    "    def print_(self):\n",
    "        for i in self.filterd_main.index:\n",
    "            title_en = self.filterd_main.loc[i]['enc_title']\n",
    "            if title_en in self.pred_list:\n",
    "                title = self.filterd_main.loc[i]['bookTitle']\n",
    "                isbn = self.filterd_main.loc[i]['ISBN']\n",
    "#                 print(isbn)\n",
    "                self.recomendations[isbn] = title\n",
    "        temp_sim_df = pd.DataFrame.from_dict(self.recomendations, orient='index')\n",
    "        temp_sim_df.columns = ['Book-Title']\n",
    "#         temp_sim_df['userID'] = temp_sim_df.index\n",
    "        return temp_sim_df"
   ]
  },
  {
   "cell_type": "code",
   "execution_count": 43,
   "id": "045adaad",
   "metadata": {},
   "outputs": [],
   "source": []
  },
  {
   "cell_type": "code",
   "execution_count": 44,
   "id": "e28448a8",
   "metadata": {},
   "outputs": [
    {
     "name": "stdout",
     "output_type": "stream",
     "text": [
      "## Test Case Input User Id : Collabarative Recomondation System by Asiri Thenuka Thenabadu : 31048197 ##\n",
      "User Base Closest Users\n"
     ]
    }
   ],
   "source": [
    "urls = ['Books.csv','Users.csv','Book-Ratings.csv']\n",
    "\n",
    "import test as t\n",
    "new_t = t.Test()\n",
    "df = new_t.test_case()\n"
   ]
  },
  {
   "cell_type": "code",
   "execution_count": 47,
   "id": "ac6b0915",
   "metadata": {},
   "outputs": [
    {
     "name": "stdout",
     "output_type": "stream",
     "text": [
      "## Test Case Input User Id : Collabarative Recomondation System by Asiri Thenuka Thenabadu : 31048197 ##\n",
      "User Base Closest Users\n",
      "10\n",
      "[ 3443  1445  5340  2218  3144  5261  2834  2688 10569  2734]\n"
     ]
    },
    {
     "data": {
      "text/html": [
       "<div>\n",
       "<style scoped>\n",
       "    .dataframe tbody tr th:only-of-type {\n",
       "        vertical-align: middle;\n",
       "    }\n",
       "\n",
       "    .dataframe tbody tr th {\n",
       "        vertical-align: top;\n",
       "    }\n",
       "\n",
       "    .dataframe thead th {\n",
       "        text-align: right;\n",
       "    }\n",
       "</style>\n",
       "<table border=\"1\" class=\"dataframe\">\n",
       "  <thead>\n",
       "    <tr style=\"text-align: right;\">\n",
       "      <th></th>\n",
       "      <th>Book-Title</th>\n",
       "    </tr>\n",
       "  </thead>\n",
       "  <tbody>\n",
       "    <tr>\n",
       "      <th>0452269571</th>\n",
       "      <td>Bastard Out of Carolina</td>\n",
       "    </tr>\n",
       "    <tr>\n",
       "      <th>0515110396</th>\n",
       "      <td>Compelling Evidence</td>\n",
       "    </tr>\n",
       "    <tr>\n",
       "      <th>0440514428</th>\n",
       "      <td>Cold Sassy Tree</td>\n",
       "    </tr>\n",
       "    <tr>\n",
       "      <th>038531258X</th>\n",
       "      <td>Cold Sassy Tree</td>\n",
       "    </tr>\n",
       "    <tr>\n",
       "      <th>0310235928</th>\n",
       "      <td>Cape Refuge</td>\n",
       "    </tr>\n",
       "    <tr>\n",
       "      <th>0694005932</th>\n",
       "      <td>Good Morning (Jump at the Sun Board Book)</td>\n",
       "    </tr>\n",
       "    <tr>\n",
       "      <th>3442451310</th>\n",
       "      <td>Das Beinhaus.</td>\n",
       "    </tr>\n",
       "    <tr>\n",
       "      <th>3502518297</th>\n",
       "      <td>Der Ferienkrimi. Ein m�?¶rderischer Sommer.</td>\n",
       "    </tr>\n",
       "    <tr>\n",
       "      <th>0393020126</th>\n",
       "      <td>Glory Denied: The Saga of Jim Thompson, Americ...</td>\n",
       "    </tr>\n",
       "    <tr>\n",
       "      <th>0525934251</th>\n",
       "      <td>Bastard Out of Carolina</td>\n",
       "    </tr>\n",
       "    <tr>\n",
       "      <th>044018455X</th>\n",
       "      <td>STRANGER IN THE HOUS</td>\n",
       "    </tr>\n",
       "    <tr>\n",
       "      <th>0843132671</th>\n",
       "      <td>Counting Rhymes: Giant Wonder Book</td>\n",
       "    </tr>\n",
       "  </tbody>\n",
       "</table>\n",
       "</div>"
      ],
      "text/plain": [
       "                                                   Book-Title\n",
       "0452269571                            Bastard Out of Carolina\n",
       "0515110396                                Compelling Evidence\n",
       "0440514428                                    Cold Sassy Tree\n",
       "038531258X                                    Cold Sassy Tree\n",
       "0310235928                                        Cape Refuge\n",
       "0694005932          Good Morning (Jump at the Sun Board Book)\n",
       "3442451310                                      Das Beinhaus.\n",
       "3502518297        Der Ferienkrimi. Ein m�?¶rderischer Sommer.\n",
       "0393020126  Glory Denied: The Saga of Jim Thompson, Americ...\n",
       "0525934251                            Bastard Out of Carolina\n",
       "044018455X                               STRANGER IN THE HOUS\n",
       "0843132671                 Counting Rhymes: Giant Wonder Book"
      ]
     },
     "execution_count": 47,
     "metadata": {},
     "output_type": "execute_result"
    }
   ],
   "source": [
    "urls = ['Books.csv','Users.csv','Book-Ratings.csv']\n",
    "import test as t\n",
    "new_t = t.Test()\n",
    "df = new_t.test_case()\n",
    "k = Knn_m2()\n",
    "k.set_values(urls,df)\n",
    "k.preprocess()\n",
    "k.knn_algo()\n",
    "k.print_()"
   ]
  },
  {
   "cell_type": "code",
   "execution_count": 48,
   "id": "3855b987",
   "metadata": {},
   "outputs": [],
   "source": [
    "# k.print_()"
   ]
  },
  {
   "cell_type": "code",
   "execution_count": null,
   "id": "8d9f483c",
   "metadata": {},
   "outputs": [],
   "source": []
  },
  {
   "cell_type": "code",
   "execution_count": null,
   "id": "573f0fb6",
   "metadata": {},
   "outputs": [],
   "source": []
  }
 ],
 "metadata": {
  "kernelspec": {
   "display_name": "Python 3",
   "language": "python",
   "name": "python3"
  },
  "language_info": {
   "codemirror_mode": {
    "name": "ipython",
    "version": 3
   },
   "file_extension": ".py",
   "mimetype": "text/x-python",
   "name": "python",
   "nbconvert_exporter": "python",
   "pygments_lexer": "ipython3",
   "version": "3.8.8"
  }
 },
 "nbformat": 4,
 "nbformat_minor": 5
}
