{
 "cells": [
  {
   "cell_type": "code",
   "execution_count": 87,
   "id": "669c6aa9",
   "metadata": {},
   "outputs": [],
   "source": [
    "import similarities as sm\n",
    "import pandas as pd\n",
    "class RecomenderWithUsers():\n",
    "    def __init__(self):\n",
    "        self.sim = sm.Similarity()\n",
    "        self.__simDict={}\n",
    "    def initialize(self,df,user_id,threshhold,algo):\n",
    "        self._threshhold = threshhold\n",
    "        self.similarity_algo = algo\n",
    "        self.set_data_frame(df)\n",
    "        self.set_target_user(user_id)\n",
    "        self.target_users_df()\n",
    "        self.related_users_df()\n",
    "        self.order_user_by_rating()\n",
    "        return self.closest_n_users()\n",
    "#         return self.closest_n_similarity_df\n",
    "    def set_data_frame(self,df):\n",
    "        self.__data_frame = df\n",
    "    def set_target_user(self,user_id):\n",
    "        self.target_user_id = user_id\n",
    "    def get_target_user(self):\n",
    "        return self.target_user_id\n",
    "    def get_target_user_df(self):\n",
    "#         print(\"============\",self.__data_frame.head(10))\n",
    "#         print(\"self.target_user_id :\",self.target_user_id)\n",
    "        return self.__data_frame.loc[self.__data_frame['userID'] == int(self.target_user_id)][['bookRating','ISBN']]\n",
    "    def target_users_df(self):\n",
    "        self.__target_user_df = self.get_target_user_df()\n",
    "#         print(\"target_user_df : \",  self.__target_user_df)\n",
    "    def get_related_users(self):\n",
    "        temp_df = self.__data_frame[self.__data_frame['ISBN'].isin(self.__target_user_df['ISBN'].tolist())]\n",
    "        return temp_df.loc[temp_df['userID'] != int(self.target_user_id)]\n",
    "    def related_users_df(self):\n",
    "        self.related_users = self.get_related_users()\n",
    "#         print(\"self.related_users\",self.related_users)\n",
    "    def order_user_by_rating(self):\n",
    "        temp_group_by_df = self.related_users.groupby(['userID'])\n",
    "        # order by the most common rating count\n",
    "        self.related_users_orderd = sorted(temp_group_by_df,  key=lambda x: len(x[1]), reverse=True)\n",
    "#         print(\" == \",self.related_users_orderd)\n",
    "    def closest_n_users(self):\n",
    "        try:\n",
    "            for name,group in self.related_users_orderd:\n",
    "    #             print(\"self.related_users_orderd == \",name)\n",
    "                group = group.sort_values(by='ISBN')\n",
    "                targetsBooks = self.__target_user_df.sort_values(by='ISBN')\n",
    "                temp_df = targetsBooks[targetsBooks['ISBN'].isin(group['ISBN'].tolist())]\n",
    "                tempRatingList = temp_df['bookRating'].tolist()\n",
    "                tempGroupList = group['bookRating'].tolist()\n",
    "    #             print(\"tempGroupList : \",tempGroupList)\n",
    "                if(len(tempRatingList) > 2):\n",
    "                    if(sum(tempRatingList) > 0 and sum(tempGroupList) > 0):\n",
    "    #                     print(\"tempGroupList : \",tempGroupList)\n",
    "                        similarity = sm.getSimilarity(sim = self.similarity_algo, target_r =tempRatingList , closest_r = tempGroupList)\n",
    "                        if (similarity != 'Undifined'):\n",
    "                            self.__simDict[name] = similarity\n",
    "                        else:\n",
    "                            pass\n",
    "                    else:\n",
    "                        pass\n",
    "                else:\n",
    "                    pass\n",
    "            temp_sim_df = pd.DataFrame.from_dict(self.__simDict, orient='index')\n",
    "    #         print(temp_sim_df)\n",
    "            temp_sim_df.columns = ['similarityIndex']\n",
    "            temp_sim_df['userID'] = temp_sim_df.index\n",
    "    #             temp_sim_df.index = range(len(temp_sim_df))\n",
    "            tm = temp_sim_df.sort_values(by='similarityIndex', ascending=False)[0:self._threshhold]\n",
    "    #             print(\"== \\n\",tm)\n",
    "            return tm\n",
    "        except:\n",
    "            return \"Error\"\n",
    "            \n",
    "        \n",
    "    "
   ]
  },
  {
   "cell_type": "code",
   "execution_count": 88,
   "id": "c526b2ac",
   "metadata": {},
   "outputs": [],
   "source": [
    "# import load_data_set as lo\n",
    "# load_dataset = lo.Load_data()\n",
    "# load_dataset.set_urls(['Books.csv','Users.csv','Book-Ratings.csv'])\n",
    "# data_frame = load_dataset.get_user_preferences_df()"
   ]
  },
  {
   "cell_type": "code",
   "execution_count": 89,
   "id": "f706d06a",
   "metadata": {},
   "outputs": [],
   "source": [
    "# rc = RecomenderWithUsers()\n",
    "# rc.initialize(df=data_frame,user_id = \"236959\", algo = 'pearson_correlation_scipy', threshhold= 10)"
   ]
  },
  {
   "cell_type": "code",
   "execution_count": 90,
   "id": "c9b5bc0c",
   "metadata": {},
   "outputs": [],
   "source": [
    "# rc = RecomenderWithUsers()\n",
    "# rc.initialize(df=data_frame,user_id = \"236959\", algo = 'pearson_correlation', threshhold= 10)"
   ]
  },
  {
   "cell_type": "code",
   "execution_count": 91,
   "id": "9b0e6294",
   "metadata": {},
   "outputs": [],
   "source": [
    "# data_frame.loc[data_frame['userID'] == 236959][['bookRating','ISBN']]"
   ]
  },
  {
   "cell_type": "code",
   "execution_count": null,
   "id": "d905a919",
   "metadata": {},
   "outputs": [],
   "source": []
  },
  {
   "cell_type": "code",
   "execution_count": null,
   "id": "2796e2c5",
   "metadata": {},
   "outputs": [],
   "source": []
  }
 ],
 "metadata": {
  "kernelspec": {
   "display_name": "Python 3",
   "language": "python",
   "name": "python3"
  },
  "language_info": {
   "codemirror_mode": {
    "name": "ipython",
    "version": 3
   },
   "file_extension": ".py",
   "mimetype": "text/x-python",
   "name": "python",
   "nbconvert_exporter": "python",
   "pygments_lexer": "ipython3",
   "version": "3.8.8"
  }
 },
 "nbformat": 4,
 "nbformat_minor": 5
}
